{
 "cells": [
  {
   "cell_type": "code",
   "execution_count": 14,
   "metadata": {
    "collapsed": true
   },
   "outputs": [],
   "source": [
    "%matplotlib inline\n",
    "import numpy as np"
   ]
  },
  {
   "cell_type": "markdown",
   "metadata": {},
   "source": [
    "### FFT\n",
    "There are many ways to define the DFT, varying in the sign of the exponent, normalization, etc. In this implementation, the DFT is defined as\n",
    "\n",
    "$$A_k=a_m\\sum_{m=0}^{n-1} {exp\\{-2*\\pi*i\\frac {mk} {n}\\}} $$         k=0,1,...,n-1\n",
    "\n",
    "The values in the result follow so-called “standard” order: If A = fft(a, n), then **A[0]** contains the zero-frequency term (the sum of the signal), which is always purely real for real inputs. \n",
    "\n",
    "Then **A[1:n/2]** contains the positive-frequency terms, and **A[n/2+1:]** contains the negative-frequency terms, in order of decreasingly negative frequency. \n",
    "\n",
    "### 偶数输入点\n",
    "For an even number of input points, A[n/2] represents both positive and negative Nyquist frequency, and is also purely real for real input. \n",
    "\n",
    "### 奇数输入点\n",
    "For an odd number of input points, A[(n-1)/2] contains the largest positive frequency, while A[(n+1)/2] contains the largest negative frequency. \n",
    "\n",
    "### Normalization\n",
    "The default normalization has the direct transforms **unscaled** and the inverse transforms are scaled by **1/n**. It is possible to obtain unitary transforms by setting the keyword argument norm to \"ortho\" (default is None) so that both direct and inverse transforms will be scaled by $1/\\sqrt{n}$.\n",
    "\n",
    "### 计算效率\n",
    "FFT (Fast Fourier Transform) refers to a way the discrete Fourier Transform (DFT) can be calculated efficiently, by using symmetries in the calculated terms. The symmetry is highest when **n is a power of 2**, and the transform is therefore most efficient for these sizes.\n",
    "\n",
    "### 幅度\n",
    "When the input a is a time-domain signal and A = fft(a), np.abs(A) is its amplitude spectrum and np.abs(A)**2 is its power spectrum. The phase spectrum is obtained by np.angle(A).\n",
    "\n",
    "### rfft\n",
    "When the DFT is computed for purely real input, the output is Hermitian-symmetric, i.e. the negative frequency terms are just the complex conjugates of the corresponding positive-frequency terms, and the negative-frequency terms are therefore redundant. This function does not compute the negative frequency terms, and the length of the transformed axis of the output is therefore **n/2 + 1**.\n",
    "\n",
    "When A = rfft(a) and fs is the sampling frequency, A[0] contains the zero-frequency term 0*fs, which is real due to Hermitian symmetry.\n",
    "\n",
    "If n is even, A[-1] contains the term representing both positive and negative Nyquist frequency (+fs/2 and -fs/2), and must also be purely real. If n is odd, there is no term at fs/2; A[-1] contains the largest positive frequency (fs/2*(n-1)/n), and is complex in the general case.\n",
    "\n",
    "### 偶数个点\n",
    "If n is even, the length of the transformed axis is (n/2)+1. \n",
    "\n",
    "### 奇数个点\n",
    "If n is odd, the length is (n+1)/2.\n",
    "\n",
    "### Real and Hermitian transforms \n",
    "When the input is purely real, its transform is **Hermitian**, i.e., the component at frequency $f_k$ is the complex conjugate of the component at frequency $-f_k$, which means that for real inputs there is no information in the negative frequency components that is not already available from the positive frequency components. \n",
    "\n",
    "The family of $\\color{red}{rfft}$ functions is designed to operate on real inputs, and exploits this symmetry by computing only the positive frequency components, up to and including the Nyquist frequency. Thus, n input points produce **n/2+1** complex output points. The inverses of this family assumes the same symmetry of its input, and for an output of n points uses **n/2+1** input points.\n",
    "\n",
    "Correspondingly, when the spectrum is purely real, the signal is **Hermitian**. The hfft family of functions exploits this symmetry by using n/2+1 complex points in the input (time) domain for n real points in the frequency domain.\n",
    "\n",
    "### 频率\n",
    "The routine np.fft.fftfreq(n) returns an array giving the frequencies of corresponding elements in the output. \n",
    "\n",
    "### shift\n",
    "The routine np.fft.fftshift(A) shifts transforms and their frequencies to put the zero-frequency components in the middle, and np.fft.ifftshift(A) undoes that shift.\n",
    "\n",
    "When the input a is a time-domain signal and A = fft(a), np.abs(A) is its amplitude spectrum and np.abs(A)**2 is its power spectrum. The phase spectrum is obtained by np.angle(A).\n",
    "\n"
   ]
  },
  {
   "cell_type": "markdown",
   "metadata": {},
   "source": [
    "### 偶数个数据"
   ]
  },
  {
   "cell_type": "code",
   "execution_count": 15,
   "metadata": {
    "collapsed": true
   },
   "outputs": [],
   "source": [
    "a=np.asarray([0,1,0,0])"
   ]
  },
  {
   "cell_type": "markdown",
   "metadata": {},
   "source": [
    "### fft 函数"
   ]
  },
  {
   "cell_type": "code",
   "execution_count": 16,
   "metadata": {
    "collapsed": true
   },
   "outputs": [],
   "source": [
    "b=np.fft.fft(a)"
   ]
  },
  {
   "cell_type": "code",
   "execution_count": 17,
   "metadata": {
    "collapsed": false
   },
   "outputs": [
    {
     "data": {
      "text/plain": [
       "array([ 1.+0.j,  0.-1.j, -1.+0.j,  0.+1.j])"
      ]
     },
     "execution_count": 17,
     "metadata": {},
     "output_type": "execute_result"
    }
   ],
   "source": [
    "b"
   ]
  },
  {
   "cell_type": "markdown",
   "metadata": {},
   "source": [
    "### rfft 函数"
   ]
  },
  {
   "cell_type": "code",
   "execution_count": 18,
   "metadata": {
    "collapsed": true
   },
   "outputs": [],
   "source": [
    "c=np.fft.rfft(a)"
   ]
  },
  {
   "cell_type": "code",
   "execution_count": 19,
   "metadata": {
    "collapsed": false
   },
   "outputs": [
    {
     "data": {
      "text/plain": [
       "array([ 1.+0.j,  0.-1.j, -1.+0.j])"
      ]
     },
     "execution_count": 19,
     "metadata": {},
     "output_type": "execute_result"
    }
   ],
   "source": [
    "c"
   ]
  },
  {
   "cell_type": "markdown",
   "metadata": {},
   "source": [
    "长度为4/2+1=3"
   ]
  },
  {
   "cell_type": "markdown",
   "metadata": {},
   "source": [
    "### 奇数个数据"
   ]
  },
  {
   "cell_type": "code",
   "execution_count": 20,
   "metadata": {
    "collapsed": true
   },
   "outputs": [],
   "source": [
    "a=np.asarray([0,1,0,0,1])"
   ]
  },
  {
   "cell_type": "code",
   "execution_count": 21,
   "metadata": {
    "collapsed": true
   },
   "outputs": [],
   "source": [
    "b=np.fft.fft(a)"
   ]
  },
  {
   "cell_type": "code",
   "execution_count": 22,
   "metadata": {
    "collapsed": false
   },
   "outputs": [
    {
     "data": {
      "text/plain": [
       "array([ 2.00000000+0.j,  0.61803399+0.j, -1.61803399+0.j, -1.61803399+0.j,\n",
       "        0.61803399+0.j])"
      ]
     },
     "execution_count": 22,
     "metadata": {},
     "output_type": "execute_result"
    }
   ],
   "source": [
    "b"
   ]
  },
  {
   "cell_type": "code",
   "execution_count": 23,
   "metadata": {
    "collapsed": true
   },
   "outputs": [],
   "source": [
    "c=np.fft.rfft(a)"
   ]
  },
  {
   "cell_type": "code",
   "execution_count": 24,
   "metadata": {
    "collapsed": false
   },
   "outputs": [
    {
     "data": {
      "text/plain": [
       "array([ 2.00000000+0.j,  0.61803399+0.j, -1.61803399+0.j])"
      ]
     },
     "execution_count": 24,
     "metadata": {},
     "output_type": "execute_result"
    }
   ],
   "source": [
    "c"
   ]
  },
  {
   "cell_type": "markdown",
   "metadata": {},
   "source": [
    "长度为(5+1)/2=3"
   ]
  }
 ],
 "metadata": {
  "anaconda-cloud": {},
  "kernelspec": {
   "display_name": "Python [conda root]",
   "language": "python",
   "name": "conda-root-py"
  },
  "language_info": {
   "codemirror_mode": {
    "name": "ipython",
    "version": 2
   },
   "file_extension": ".py",
   "mimetype": "text/x-python",
   "name": "python",
   "nbconvert_exporter": "python",
   "pygments_lexer": "ipython2",
   "version": "2.7.12"
  }
 },
 "nbformat": 4,
 "nbformat_minor": 1
}
